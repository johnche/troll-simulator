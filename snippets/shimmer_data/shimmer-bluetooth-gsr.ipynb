{
 "cells": [
  {
   "cell_type": "code",
   "execution_count": 1,
   "metadata": {},
   "outputs": [],
   "source": [
    "import struct, bluetooth"
   ]
  },
  {
   "cell_type": "code",
   "execution_count": 2,
   "metadata": {},
   "outputs": [
    {
     "name": "stdout",
     "output_type": "stream",
     "text": [
      "['00:06:66:D7:C6:F2']\n"
     ]
    }
   ],
   "source": [
    "# Check if our unit can be detected (for validating bluetooth.connect())\n",
    "\n",
    "devs = bluetooth.discover_devices()\n",
    "print(devs)"
   ]
  },
  {
   "cell_type": "code",
   "execution_count": 3,
   "metadata": {},
   "outputs": [],
   "source": [
    "# Connect to GSR unit\n",
    "\n",
    "gsr_address = '00:06:66:D7:C6:F2'\n",
    "shimmer_gsr = bluetooth.BluetoothSocket(bluetooth.RFCOMM)\n",
    "shimmer_gsr.connect((gsr_address, 1))"
   ]
  },
  {
   "cell_type": "code",
   "execution_count": 4,
   "metadata": {},
   "outputs": [],
   "source": [
    "# Utilities\n",
    "\n",
    "def pack_char(val):\n",
    "    return struct.pack('B', val)\n",
    "\n",
    "# Packet type variables\n",
    "DATA_PACKET            = pack_char(0x00)\n",
    "INQUIRY_COMMAND        = pack_char(0x01)\n",
    "INQUIRY_RESPONSE       = pack_char(0x02)\n",
    "SET_SENSORS_COMMAND    = pack_char(0x08)\n",
    "ACKNOWLEDGE            = pack_char(0xFF)\n",
    "\n",
    "# Sensor variables\n",
    "SENSOR_GSR             = pack_char(0x04)\n",
    "\n",
    "\n",
    "def wait_ACK():\n",
    "    while True:\n",
    "        response = shimmer_gsr.recv(1)\n",
    "        print('wait for ack', response)\n",
    "        if response == ACKNOWLEDGE:\n",
    "            print('Shimmer: ACK')\n",
    "            return"
   ]
  },
  {
   "cell_type": "code",
   "execution_count": 5,
   "metadata": {},
   "outputs": [
    {
     "name": "stdout",
     "output_type": "stream",
     "text": [
      "wait for ack b'\\xff'\n",
      "Shimmer: ACK\n"
     ]
    }
   ],
   "source": [
    "# Enable GSR readings\n",
    "# https://raw.githubusercontent.com/ShimmerResearch/shimmer3/LogAndStream_v0.11.0/LogAndStream/shimmer_btsd.h\n",
    "\n",
    "set_gsr_command = SET_SENSORS_COMMAND + SENSOR_GSR + 2*DATA_PACKET\n",
    "\n",
    "# SET_SENSORS_COMMAND = 0x08\n",
    "# SENSOR_GSR = 0x04\n",
    "# set_gsr_command = struct.pack('BBBB', SET_SENSORS_COMMAND, SENSOR_GSR, 0x00, 0x00) \n",
    "\n",
    "shimmer_gsr.send(set_gsr_command)\n",
    "wait_ACK()"
   ]
  },
  {
   "cell_type": "code",
   "execution_count": 6,
   "metadata": {},
   "outputs": [
    {
     "name": "stdout",
     "output_type": "stream",
     "text": [
      "wait for ack b'\\xff'\n",
      "Shimmer: ACK\n",
      "Full response [2, 0, 1, 81, 255, 12, 9, 1, 1, 28]\n",
      "Response length 10\n",
      "Packet type 0x2\n",
      "Sample rate 0x0\n",
      "Sample rate 0x1\n",
      "Config byte 0x51\n",
      "Config byte 0xff\n",
      "Config byte 0xc\n",
      "Config byte 0x9\n",
      "Number of channels 0x1\n",
      "Buffer size 0x1\n",
      "Channel 1 0x1c\n"
     ]
    }
   ],
   "source": [
    "# Shitty way of finding our GSR channel through inquiry command\n",
    "\n",
    "shimmer_gsr.send(INQUIRY_COMMAND)\n",
    "wait_ACK()\n",
    "\n",
    "\n",
    "def read_inqury_response():\n",
    "    counter = 0\n",
    "    num_channels = 0\n",
    "    packet_begin = False\n",
    "    packet_end = 999 # Arbitrary large enough number\n",
    "    response = b''\n",
    " \n",
    "    while counter <= packet_end:\n",
    "        data = shimmer_gsr.recv(1)\n",
    "        if data == INQUIRY_RESPONSE:\n",
    "            packet_begin = True\n",
    "        if packet_begin:\n",
    "            if counter == 7:\n",
    "                packet_end = 8 + data[0]\n",
    "            response += data\n",
    "            counter += 1\n",
    "    return response\n",
    "            \n",
    "    \n",
    "def print_inquiry_response(response):\n",
    "    print('Full response', list(response))\n",
    "    print('Response length', len(response))\n",
    "    print('Packet type', hex(response[0]))\n",
    "    print('Sample rate', hex(response[1]))\n",
    "    print('Sample rate', hex(response[2]))\n",
    "    print('Config byte', hex(response[3]))\n",
    "    print('Config byte', hex(response[4]))\n",
    "    print('Config byte', hex(response[5]))\n",
    "    print('Config byte', hex(response[6]))\n",
    "    print('Number of channels', hex(response[7]))\n",
    "    print('Buffer size', hex(response[8]))\n",
    "    for i in range(response[7]):\n",
    "        print('Channel %s' % (i + 1), hex(response[9 + i]))\n",
    "        \n",
    "        \n",
    "inquiry_response = read_inqury_response()\n",
    "print_inquiry_response(inquiry_response)"
   ]
  },
  {
   "cell_type": "code",
   "execution_count": null,
   "metadata": {},
   "outputs": [],
   "source": [
    "# # Check for packet begin outside func\n",
    "# def read_stream_packet(sock, packet_channel_size, overflow_data=b''):\n",
    "#     packet = overflow_data\n",
    "#     for i in range(3 + packet_size): # Add timestamp to size\n",
    "#         packet += sock.recv(1)\n",
    "#     return packet\n",
    "\n",
    "\n",
    "# def read_stream_cmd_response():\n",
    "    \n",
    "\n",
    "# def read_stream(sock, shimmer_config):\n",
    "#     while True:\n",
    "#         data = sock.recv(1)\n",
    "#         if data == DATA_PACKET:\n",
    "#             packet = read_stream_packet(sock, shimmer_config[7])"
   ]
  },
  {
   "cell_type": "code",
   "execution_count": 7,
   "metadata": {},
   "outputs": [],
   "source": [
    "shimmer_gsr.close()"
   ]
  }
 ],
 "metadata": {
  "kernelspec": {
   "display_name": "Python 3",
   "language": "python3",
   "name": "python3"
  },
  "language_info": {
   "codemirror_mode": {
    "name": "ipython",
    "version": 3
   },
   "file_extension": ".py",
   "mimetype": "text/x-python",
   "name": "python",
   "nbconvert_exporter": "python",
   "pygments_lexer": "ipython3",
   "version": "3.6.8"
  }
 },
 "nbformat": 4,
 "nbformat_minor": 2
}
